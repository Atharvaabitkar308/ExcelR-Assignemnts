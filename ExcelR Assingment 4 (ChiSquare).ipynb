{
 "cells": [
  {
   "cell_type": "code",
   "execution_count": 2,
   "id": "7ce5277e-e50f-40b8-acad-1a3ea99a694b",
   "metadata": {},
   "outputs": [],
   "source": [
    "import numpy as np\n",
    "from scipy.stats import chi2\n",
    "\n",
    "\n"
   ]
  },
  {
   "cell_type": "code",
   "execution_count": 3,
   "id": "23fd20aa-4559-4d17-af12-805838e12f7f",
   "metadata": {},
   "outputs": [],
   "source": [
    "# Observed frequencies\n",
    "observed = np.array([[50, 70],\n",
    "                     [80, 100],\n",
    "                     [60, 90],\n",
    "                     [30, 50],\n",
    "                     [20, 50]])"
   ]
  },
  {
   "cell_type": "code",
   "execution_count": 4,
   "id": "c1d5e59e-bdf4-4c72-adb2-7a221fec9b2f",
   "metadata": {},
   "outputs": [],
   "source": [
    "# Row and column totals\n",
    "row_totals = observed.sum(axis=1)\n",
    "col_totals = observed.sum(axis=0)\n",
    "grand_total = observed.sum()"
   ]
  },
  {
   "cell_type": "code",
   "execution_count": 5,
   "id": "f9624b3c-4e08-4029-8ce8-6a90d54d3b59",
   "metadata": {},
   "outputs": [],
   "source": [
    "# Expected frequencies\n",
    "expected = np.outer(row_totals, col_totals) / grand_total"
   ]
  },
  {
   "cell_type": "code",
   "execution_count": 6,
   "id": "9a82f8d5-6d34-4933-9d70-6f35a7bd6a23",
   "metadata": {},
   "outputs": [],
   "source": [
    "# Chi-square statistic\n",
    "chi_square_stat = ((observed - expected) ** 2 / expected).sum()"
   ]
  },
  {
   "cell_type": "code",
   "execution_count": 7,
   "id": "50c948b6-4031-43a0-8fba-0f21dad86dfb",
   "metadata": {},
   "outputs": [],
   "source": [
    "# Degrees of freedom\n",
    "df = (observed.shape[0] - 1) * (observed.shape[1] - 1)"
   ]
  },
  {
   "cell_type": "code",
   "execution_count": 8,
   "id": "f914d660-e487-460f-8c06-1b628e931162",
   "metadata": {},
   "outputs": [],
   "source": [
    "# Critical value at alpha = 0.05\n",
    "critical_value = chi2.ppf(0.95, df)"
   ]
  },
  {
   "cell_type": "code",
   "execution_count": 9,
   "id": "0557592c-055c-477f-9f13-33eb1e25aebe",
   "metadata": {},
   "outputs": [
    {
     "data": {
      "text/plain": [
       "(5.638227513227513, 9.487729036781154)"
      ]
     },
     "execution_count": 9,
     "metadata": {},
     "output_type": "execute_result"
    }
   ],
   "source": [
    "chi_square_stat, critical_value"
   ]
  },
  {
   "cell_type": "code",
   "execution_count": null,
   "id": "9508b76c-1cb1-48a9-8383-a8d46190ddf2",
   "metadata": {},
   "outputs": [],
   "source": []
  }
 ],
 "metadata": {
  "kernelspec": {
   "display_name": "Python 3 (ipykernel)",
   "language": "python",
   "name": "python3"
  },
  "language_info": {
   "codemirror_mode": {
    "name": "ipython",
    "version": 3
   },
   "file_extension": ".py",
   "mimetype": "text/x-python",
   "name": "python",
   "nbconvert_exporter": "python",
   "pygments_lexer": "ipython3",
   "version": "3.11.7"
  }
 },
 "nbformat": 4,
 "nbformat_minor": 5
}
