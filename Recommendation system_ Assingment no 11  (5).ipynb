{
 "cells": [
  {
   "cell_type": "code",
   "execution_count": 18,
   "id": "42e8b7a7-0ddd-48c0-93d6-7ba78fc9ece8",
   "metadata": {},
   "outputs": [
    {
     "name": "stdout",
     "output_type": "stream",
     "text": [
      "   anime_id                              name  \\\n",
      "0     32281                    Kimi no Na wa.   \n",
      "1      5114  Fullmetal Alchemist: Brotherhood   \n",
      "2     28977                          Gintama°   \n",
      "3      9253                       Steins;Gate   \n",
      "4      9969                     Gintama&#039;   \n",
      "\n",
      "                                               genre   type episodes  rating  \\\n",
      "0               Drama, Romance, School, Supernatural  Movie        1    9.37   \n",
      "1  Action, Adventure, Drama, Fantasy, Magic, Mili...     TV       64    9.26   \n",
      "2  Action, Comedy, Historical, Parody, Samurai, S...     TV       51    9.25   \n",
      "3                                   Sci-Fi, Thriller     TV       24    9.17   \n",
      "4  Action, Comedy, Historical, Parody, Samurai, S...     TV       51    9.16   \n",
      "\n",
      "   members  \n",
      "0   200630  \n",
      "1   793665  \n",
      "2   114262  \n",
      "3   673572  \n",
      "4   151266  \n"
     ]
    }
   ],
   "source": [
    "import pandas as pd\n",
    "\n",
    "# Load the dataset\n",
    "file_path = r\"C:\\Users\\athar\\OneDrive\\Desktop\\python\\anime.csv\"  # Update the path to your CSV file\n",
    "df = pd.read_csv(r\"C:\\Users\\athar\\OneDrive\\Desktop\\python\\anime.csv\")\n",
    "\n",
    "# Display the first few rows of the dataset\n",
    "print(df.head())\n"
   ]
  },
  {
   "cell_type": "code",
   "execution_count": 32,
   "id": "d54e81f5-766b-4e95-be6c-9ac55c8bc44c",
   "metadata": {},
   "outputs": [],
   "source": [
    "import pandas as pd\n",
    "from sklearn.preprocessing import MinMaxScaler"
   ]
  },
  {
   "cell_type": "code",
   "execution_count": 33,
   "id": "b00cf8f3-fd41-4a2a-b71a-fbbe7843c9e4",
   "metadata": {},
   "outputs": [],
   "source": [
    "df['episodes'] = pd.to_numeric(df['episodes'], errors='coerce').fillna(0).astype(int)\n",
    "df['rating'].fillna(df['rating'].mean(), inplace=True)"
   ]
  },
  {
   "cell_type": "code",
   "execution_count": 34,
   "id": "394c7d71-47ef-485d-b71d-b6598f2efb72",
   "metadata": {},
   "outputs": [],
   "source": [
    "df['type'] = df['type'].astype('category').cat.codes"
   ]
  },
  {
   "cell_type": "code",
   "execution_count": 35,
   "id": "4cfc707a-90e1-4296-9700-e5ec5b2cdf2d",
   "metadata": {},
   "outputs": [],
   "source": [
    "genres = set()\n",
    "for s in df['genre'].str.split(','):\n",
    "    genres.update(s)\n",
    "genres = sorted(genres)"
   ]
  },
  {
   "cell_type": "code",
   "execution_count": 36,
   "id": "aa3258ca-6c63-413d-85a7-db23a9bc80d8",
   "metadata": {},
   "outputs": [],
   "source": [
    "for genre in genres:\n",
    "    df[f'genre_{genre.strip()}'] = df['genre'].apply(lambda x: 1 if genre in x else 0)"
   ]
  },
  {
   "cell_type": "code",
   "execution_count": 37,
   "id": "9eb44e22-3650-4579-8218-4966b3d732e3",
   "metadata": {},
   "outputs": [],
   "source": [
    "# Initialize the Min-Max Scaler\n",
    "scaler = MinMaxScaler()"
   ]
  },
  {
   "cell_type": "code",
   "execution_count": 38,
   "id": "201e7220-dd0c-4cb8-b5b9-336c80ed3937",
   "metadata": {},
   "outputs": [],
   "source": [
    "numerical_columns = ['episodes', 'rating', 'members']"
   ]
  },
  {
   "cell_type": "code",
   "execution_count": 39,
   "id": "4b625dc2-d00f-4ac6-92fd-51f0dd5d8556",
   "metadata": {},
   "outputs": [],
   "source": [
    "df[numerical_columns] = scaler.fit_transform(df[numerical_columns])"
   ]
  },
  {
   "cell_type": "code",
   "execution_count": 40,
   "id": "4bc800c3-1c0e-43ce-82e2-ca6de30e9610",
   "metadata": {},
   "outputs": [
    {
     "name": "stdout",
     "output_type": "stream",
     "text": [
      "   anime_id                              name  \\\n",
      "0     32281                    Kimi no Na wa.   \n",
      "1      5114  Fullmetal Alchemist: Brotherhood   \n",
      "2     28977                          Gintama°   \n",
      "3      9253                       Steins;Gate   \n",
      "4      9969                     Gintama&#039;   \n",
      "\n",
      "                                               genre  type  episodes  \\\n",
      "0               Drama, Romance, School, Supernatural     0       0.0   \n",
      "1  Action, Adventure, Drama, Fantasy, Magic, Mili...     5       0.0   \n",
      "2  Action, Comedy, Historical, Parody, Samurai, S...     5       0.0   \n",
      "3                                   Sci-Fi, Thriller     5       0.0   \n",
      "4  Action, Comedy, Historical, Parody, Samurai, S...     5       0.0   \n",
      "\n",
      "     rating   members  genre_Adventure  genre_Cars  genre_Comedy  ...  \\\n",
      "0  0.924370  0.197872                0           0             0  ...   \n",
      "1  0.911164  0.782770                1           0             0  ...   \n",
      "2  0.909964  0.112689                0           0             1  ...   \n",
      "3  0.900360  0.664325                0           0             0  ...   \n",
      "4  0.899160  0.149186                0           0             1  ...   \n",
      "\n",
      "   genre_Slice of Life  genre_Space  genre_Sports  genre_Super Power  \\\n",
      "0                    0            0             0                  0   \n",
      "1                    0            0             0                  0   \n",
      "2                    0            0             0                  0   \n",
      "3                    0            0             0                  0   \n",
      "4                    0            0             0                  0   \n",
      "\n",
      "   genre_Supernatural  genre_Thriller  genre_Vampire  genre_Yaoi  genre_Yuri  \\\n",
      "0                   1               0              0           0           0   \n",
      "1                   0               0              0           0           0   \n",
      "2                   0               0              0           0           0   \n",
      "3                   0               1              0           0           0   \n",
      "4                   0               0              0           0           0   \n",
      "\n",
      "   genre_Action  \n",
      "0             0  \n",
      "1             1  \n",
      "2             1  \n",
      "3             0  \n",
      "4             1  \n",
      "\n",
      "[5 rows x 50 columns]\n"
     ]
    }
   ],
   "source": [
    "print(df.head())"
   ]
  },
  {
   "cell_type": "code",
   "execution_count": 22,
   "id": "cf191e5d-348c-4cc3-a115-d32c1f9605b1",
   "metadata": {},
   "outputs": [
    {
     "name": "stdout",
     "output_type": "stream",
     "text": [
      "Missing values after handling:\n",
      "anime_id               0\n",
      "name                   0\n",
      "genre                  0\n",
      "type                   0\n",
      "episodes               0\n",
      "rating                 0\n",
      "members                0\n",
      "genre_Adventure        0\n",
      "genre_Cars             0\n",
      "genre_Comedy           0\n",
      "genre_Dementia         0\n",
      "genre_Demons           0\n",
      "genre_Drama            0\n",
      "genre_Ecchi            0\n",
      "genre_Fantasy          0\n",
      "genre_Game             0\n",
      "genre_Harem            0\n",
      "genre_Hentai           0\n",
      "genre_Historical       0\n",
      "genre_Horror           0\n",
      "genre_Josei            0\n",
      "genre_Kids             0\n",
      "genre_Magic            0\n",
      "genre_Martial Arts     0\n",
      "genre_Mecha            0\n",
      "genre_Military         0\n",
      "genre_Music            0\n",
      "genre_Mystery          0\n",
      "genre_Parody           0\n",
      "genre_Police           0\n",
      "genre_Psychological    0\n",
      "genre_Romance          0\n",
      "genre_Samurai          0\n",
      "genre_School           0\n",
      "genre_Sci-Fi           0\n",
      "genre_Seinen           0\n",
      "genre_Shoujo           0\n",
      "genre_Shoujo Ai        0\n",
      "genre_Shounen          0\n",
      "genre_Shounen Ai       0\n",
      "genre_Slice of Life    0\n",
      "genre_Space            0\n",
      "genre_Sports           0\n",
      "genre_Super Power      0\n",
      "genre_Supernatural     0\n",
      "genre_Thriller         0\n",
      "genre_Vampire          0\n",
      "genre_Yaoi             0\n",
      "genre_Yuri             0\n",
      "genre_Action           0\n",
      "dtype: int64\n",
      "   anime_id                              name  \\\n",
      "0     32281                    Kimi no Na wa.   \n",
      "1      5114  Fullmetal Alchemist: Brotherhood   \n",
      "2     28977                          Gintama°   \n",
      "3      9253                       Steins;Gate   \n",
      "4      9969                     Gintama&#039;   \n",
      "\n",
      "                                               genre  type  episodes  \\\n",
      "0               Drama, Romance, School, Supernatural     0         0   \n",
      "1  Action, Adventure, Drama, Fantasy, Magic, Mili...     5         0   \n",
      "2  Action, Comedy, Historical, Parody, Samurai, S...     5         0   \n",
      "3                                   Sci-Fi, Thriller     5         0   \n",
      "4  Action, Comedy, Historical, Parody, Samurai, S...     5         0   \n",
      "\n",
      "     rating   members  genre_Adventure  genre_Cars  genre_Comedy  ...  \\\n",
      "0  0.924370  0.197872                0           0             0  ...   \n",
      "1  0.911164  0.782770                1           0             0  ...   \n",
      "2  0.909964  0.112689                0           0             1  ...   \n",
      "3  0.900360  0.664325                0           0             0  ...   \n",
      "4  0.899160  0.149186                0           0             1  ...   \n",
      "\n",
      "   genre_Slice of Life  genre_Space  genre_Sports  genre_Super Power  \\\n",
      "0                    0            0             0                  0   \n",
      "1                    0            0             0                  0   \n",
      "2                    0            0             0                  0   \n",
      "3                    0            0             0                  0   \n",
      "4                    0            0             0                  0   \n",
      "\n",
      "   genre_Supernatural  genre_Thriller  genre_Vampire  genre_Yaoi  genre_Yuri  \\\n",
      "0                   1               0              0           0           0   \n",
      "1                   0               0              0           0           0   \n",
      "2                   0               0              0           0           0   \n",
      "3                   0               1              0           0           0   \n",
      "4                   0               0              0           0           0   \n",
      "\n",
      "   genre_Action  \n",
      "0             0  \n",
      "1             1  \n",
      "2             1  \n",
      "3             0  \n",
      "4             1  \n",
      "\n",
      "[5 rows x 50 columns]\n"
     ]
    }
   ],
   "source": [
    "import pandas as pd\n",
    "from sklearn.preprocessing import MinMaxScaler\n",
    "\n",
    "# Assuming 'df' is your DataFrame from Step 1\n",
    "\n",
    "# Handle missing values\n",
    "df['episodes'] = pd.to_numeric(df['episodes'], errors='coerce').fillna(0).astype(int)\n",
    "df['rating'].fillna(df['rating'].mean(), inplace=True)\n",
    "\n",
    "# Display the count of missing values after handling\n",
    "print(\"Missing values after handling:\")\n",
    "print(df.isnull().sum())\n",
    "\n",
    "# Display the first few rows of the dataset\n",
    "print(df.head())\n"
   ]
  },
  {
   "cell_type": "code",
   "execution_count": 41,
   "id": "162c2d7b-7649-46b5-98e9-b9b774f9a22f",
   "metadata": {},
   "outputs": [
    {
     "name": "stdout",
     "output_type": "stream",
     "text": [
      "<class 'pandas.core.frame.DataFrame'>\n",
      "RangeIndex: 12294 entries, 0 to 12293\n",
      "Data columns (total 50 columns):\n",
      " #   Column               Non-Null Count  Dtype  \n",
      "---  ------               --------------  -----  \n",
      " 0   anime_id             12294 non-null  int64  \n",
      " 1   name                 12294 non-null  object \n",
      " 2   genre                12294 non-null  object \n",
      " 3   type                 12294 non-null  int8   \n",
      " 4   episodes             12294 non-null  float64\n",
      " 5   rating               12294 non-null  float64\n",
      " 6   members              12294 non-null  float64\n",
      " 7   genre_Adventure      12294 non-null  int64  \n",
      " 8   genre_Cars           12294 non-null  int64  \n",
      " 9   genre_Comedy         12294 non-null  int64  \n",
      " 10  genre_Dementia       12294 non-null  int64  \n",
      " 11  genre_Demons         12294 non-null  int64  \n",
      " 12  genre_Drama          12294 non-null  int64  \n",
      " 13  genre_Ecchi          12294 non-null  int64  \n",
      " 14  genre_Fantasy        12294 non-null  int64  \n",
      " 15  genre_Game           12294 non-null  int64  \n",
      " 16  genre_Harem          12294 non-null  int64  \n",
      " 17  genre_Hentai         12294 non-null  int64  \n",
      " 18  genre_Historical     12294 non-null  int64  \n",
      " 19  genre_Horror         12294 non-null  int64  \n",
      " 20  genre_Josei          12294 non-null  int64  \n",
      " 21  genre_Kids           12294 non-null  int64  \n",
      " 22  genre_Magic          12294 non-null  int64  \n",
      " 23  genre_Martial Arts   12294 non-null  int64  \n",
      " 24  genre_Mecha          12294 non-null  int64  \n",
      " 25  genre_Military       12294 non-null  int64  \n",
      " 26  genre_Music          12294 non-null  int64  \n",
      " 27  genre_Mystery        12294 non-null  int64  \n",
      " 28  genre_Parody         12294 non-null  int64  \n",
      " 29  genre_Police         12294 non-null  int64  \n",
      " 30  genre_Psychological  12294 non-null  int64  \n",
      " 31  genre_Romance        12294 non-null  int64  \n",
      " 32  genre_Samurai        12294 non-null  int64  \n",
      " 33  genre_School         12294 non-null  int64  \n",
      " 34  genre_Sci-Fi         12294 non-null  int64  \n",
      " 35  genre_Seinen         12294 non-null  int64  \n",
      " 36  genre_Shoujo         12294 non-null  int64  \n",
      " 37  genre_Shoujo Ai      12294 non-null  int64  \n",
      " 38  genre_Shounen        12294 non-null  int64  \n",
      " 39  genre_Shounen Ai     12294 non-null  int64  \n",
      " 40  genre_Slice of Life  12294 non-null  int64  \n",
      " 41  genre_Space          12294 non-null  int64  \n",
      " 42  genre_Sports         12294 non-null  int64  \n",
      " 43  genre_Super Power    12294 non-null  int64  \n",
      " 44  genre_Supernatural   12294 non-null  int64  \n",
      " 45  genre_Thriller       12294 non-null  int64  \n",
      " 46  genre_Vampire        12294 non-null  int64  \n",
      " 47  genre_Yaoi           12294 non-null  int64  \n",
      " 48  genre_Yuri           12294 non-null  int64  \n",
      " 49  genre_Action         12294 non-null  int64  \n",
      "dtypes: float64(3), int64(44), int8(1), object(2)\n",
      "memory usage: 4.6+ MB\n",
      "None\n"
     ]
    }
   ],
   "source": [
    "print(df.info())"
   ]
  },
  {
   "cell_type": "code",
   "execution_count": 42,
   "id": "37416cbe-b531-4c89-80fe-d6d1a5bf860d",
   "metadata": {},
   "outputs": [
    {
     "name": "stdout",
     "output_type": "stream",
     "text": [
      "           anime_id          type      episodes        rating       members  \\\n",
      "count  12294.000000  12294.000000  12294.000000  12294.000000  12294.000000   \n",
      "mean   14058.221653      3.050512      0.000081      0.576699      0.017818   \n",
      "std    11455.294701      1.818128      0.009019      0.122100      0.054068   \n",
      "min        1.000000      0.000000      0.000000      0.000000      0.000000   \n",
      "25%     3484.250000      2.000000      0.000000      0.507803      0.000217   \n",
      "50%    10260.500000      3.000000      0.000000      0.585834      0.001524   \n",
      "75%    24794.500000      5.000000      0.000000      0.660264      0.009303   \n",
      "max    34527.000000      5.000000      1.000000      1.000000      1.000000   \n",
      "\n",
      "       genre_Adventure    genre_Cars  genre_Comedy  genre_Dementia  \\\n",
      "count     12294.000000  12294.000000  12294.000000    12294.000000   \n",
      "mean          0.190987      0.005857      0.377827        0.019522   \n",
      "std           0.393095      0.076307      0.484864        0.138355   \n",
      "min           0.000000      0.000000      0.000000        0.000000   \n",
      "25%           0.000000      0.000000      0.000000        0.000000   \n",
      "50%           0.000000      0.000000      0.000000        0.000000   \n",
      "75%           0.000000      0.000000      1.000000        0.000000   \n",
      "max           1.000000      1.000000      1.000000        1.000000   \n",
      "\n",
      "       genre_Demons  ...  genre_Slice of Life   genre_Space  genre_Sports  \\\n",
      "count  12294.000000  ...         12294.000000  12294.000000  12294.000000   \n",
      "mean       0.023914  ...             0.099235      0.030991      0.044168   \n",
      "std        0.152788  ...             0.298990      0.173300      0.205476   \n",
      "min        0.000000  ...             0.000000      0.000000      0.000000   \n",
      "25%        0.000000  ...             0.000000      0.000000      0.000000   \n",
      "50%        0.000000  ...             0.000000      0.000000      0.000000   \n",
      "75%        0.000000  ...             0.000000      0.000000      0.000000   \n",
      "max        1.000000  ...             1.000000      1.000000      1.000000   \n",
      "\n",
      "       genre_Super Power  genre_Supernatural  genre_Thriller  genre_Vampire  \\\n",
      "count       12294.000000        12294.000000    12294.000000   12294.000000   \n",
      "mean            0.037823            0.084350        0.007077       0.008297   \n",
      "std             0.190777            0.277923        0.083828       0.090711   \n",
      "min             0.000000            0.000000        0.000000       0.000000   \n",
      "25%             0.000000            0.000000        0.000000       0.000000   \n",
      "50%             0.000000            0.000000        0.000000       0.000000   \n",
      "75%             0.000000            0.000000        0.000000       0.000000   \n",
      "max             1.000000            1.000000        1.000000       1.000000   \n",
      "\n",
      "         genre_Yaoi    genre_Yuri  genre_Action  \n",
      "count  12294.000000  12294.000000  12294.000000  \n",
      "mean       0.003172      0.003416      0.231414  \n",
      "std        0.056236      0.058352      0.421753  \n",
      "min        0.000000      0.000000      0.000000  \n",
      "25%        0.000000      0.000000      0.000000  \n",
      "50%        0.000000      0.000000      0.000000  \n",
      "75%        0.000000      0.000000      0.000000  \n",
      "max        1.000000      1.000000      1.000000  \n",
      "\n",
      "[8 rows x 48 columns]\n"
     ]
    }
   ],
   "source": [
    "print(df.describe())"
   ]
  },
  {
   "cell_type": "code",
   "execution_count": 43,
   "id": "a2d40fa6-3ac2-48e9-8c4a-6da9001ba939",
   "metadata": {},
   "outputs": [
    {
     "name": "stdout",
     "output_type": "stream",
     "text": [
      "                           name   genre\n",
      "count                     12294   12294\n",
      "unique                    12292    3264\n",
      "top     Shi Wan Ge Leng Xiaohua  Hentai\n",
      "freq                          2     885\n"
     ]
    }
   ],
   "source": [
    "print(df.describe(include=['object']))"
   ]
  },
  {
   "cell_type": "code",
   "execution_count": 44,
   "id": "d6a72fcc-c4a6-4ea0-aefa-9f8003a1a711",
   "metadata": {},
   "outputs": [
    {
     "name": "stdout",
     "output_type": "stream",
     "text": [
      "name: 12292 unique values\n",
      "genre: 3264 unique values\n"
     ]
    }
   ],
   "source": [
    "for column in df.select_dtypes(include=['object']).columns:\n",
    "    print(f\"{column}: {df[column].nunique()} unique values\")"
   ]
  },
  {
   "cell_type": "code",
   "execution_count": 24,
   "id": "252b97b9-ac93-4952-9e87-dd09dbce3bb6",
   "metadata": {},
   "outputs": [
    {
     "name": "stdout",
     "output_type": "stream",
     "text": [
      "   anime_id                              name  \\\n",
      "0     32281                    Kimi no Na wa.   \n",
      "1      5114  Fullmetal Alchemist: Brotherhood   \n",
      "2     28977                          Gintama°   \n",
      "3      9253                       Steins;Gate   \n",
      "4      9969                     Gintama&#039;   \n",
      "\n",
      "                                               genre  type  episodes  \\\n",
      "0               Drama, Romance, School, Supernatural     0       0.0   \n",
      "1  Action, Adventure, Drama, Fantasy, Magic, Mili...     5       0.0   \n",
      "2  Action, Comedy, Historical, Parody, Samurai, S...     5       0.0   \n",
      "3                                   Sci-Fi, Thriller     5       0.0   \n",
      "4  Action, Comedy, Historical, Parody, Samurai, S...     5       0.0   \n",
      "\n",
      "     rating   members  genre_Adventure  genre_Cars  genre_Comedy  ...  \\\n",
      "0  0.924370  0.197872                0           0             0  ...   \n",
      "1  0.911164  0.782770                1           0             0  ...   \n",
      "2  0.909964  0.112689                0           0             1  ...   \n",
      "3  0.900360  0.664325                0           0             0  ...   \n",
      "4  0.899160  0.149186                0           0             1  ...   \n",
      "\n",
      "   genre_Slice of Life  genre_Space  genre_Sports  genre_Super Power  \\\n",
      "0                    0            0             0                  0   \n",
      "1                    0            0             0                  0   \n",
      "2                    0            0             0                  0   \n",
      "3                    0            0             0                  0   \n",
      "4                    0            0             0                  0   \n",
      "\n",
      "   genre_Supernatural  genre_Thriller  genre_Vampire  genre_Yaoi  genre_Yuri  \\\n",
      "0                   1               0              0           0           0   \n",
      "1                   0               0              0           0           0   \n",
      "2                   0               0              0           0           0   \n",
      "3                   0               1              0           0           0   \n",
      "4                   0               0              0           0           0   \n",
      "\n",
      "   genre_Action  \n",
      "0             0  \n",
      "1             1  \n",
      "2             1  \n",
      "3             0  \n",
      "4             1  \n",
      "\n",
      "[5 rows x 50 columns]\n"
     ]
    }
   ],
   "source": [
    "from sklearn.preprocessing import MinMaxScaler\n",
    "\n",
    "# Convert 'type' to numerical representation\n",
    "df['type'] = df['type'].astype('category').cat.codes\n",
    "\n",
    "# Create a set of all unique genres\n",
    "genres = set()\n",
    "for s in df['genre'].str.split(','):\n",
    "    genres.update(s)\n",
    "genres = sorted(genres)\n",
    "\n",
    "# Create binary encoding for genres\n",
    "for genre in genres:\n",
    "    df[f'genre_{genre.strip()}'] = df['genre'].apply(lambda x: 1 if genre in x else 0)\n",
    "\n",
    "# Initialize the Min-Max Scaler\n",
    "scaler = MinMaxScaler()\n",
    "\n",
    "# List of numerical columns to normalize\n",
    "numerical_columns = ['episodes', 'rating', 'members']\n",
    "\n",
    "# Apply the scaler to the numerical columns\n",
    "df[numerical_columns] = scaler.fit_transform(df[numerical_columns])\n",
    "\n",
    "# Display the transformed dataset\n",
    "print(df.head())\n"
   ]
  },
  {
   "cell_type": "code",
   "execution_count": 25,
   "id": "bcb095ce-ca65-4ef2-99f1-7a7d19da1b1c",
   "metadata": {},
   "outputs": [
    {
     "name": "stdout",
     "output_type": "stream",
     "text": [
      "Top 10 anime similar to 'Kimi no Na wa.':\n",
      "['Wind: A Breath of Heart OVA', 'Wind: A Breath of Heart (TV)', 'Aura: Maryuuin Kouga Saigo no Tatakai', 'Kokoro ga Sakebitagatterunda.', 'Clannad: After Story - Mou Hitotsu no Sekai, Kyou-hen', 'Angel Beats!: Another Epilogue', 'True Tears', '&quot;Bungaku Shoujo&quot; Memoire', 'Harmonie', 'Kimikiss Pure Rouge']\n"
     ]
    }
   ],
   "source": [
    "import pandas as pd\n",
    "from sklearn.metrics.pairwise import cosine_similarity\n",
    "\n",
    "# Assuming 'df' is your DataFrame after feature extraction and normalization\n",
    "\n",
    "# Function to recommend anime based on cosine similarity\n",
    "def recommend_anime(anime_title, df, threshold=0.1, top_n=10):\n",
    "    # Find index of anime title\n",
    "    idx = df[df['name'] == anime_title].index\n",
    "    if len(idx) == 0:\n",
    "        print(f\"Anime '{anime_title}' not found in the dataset.\")\n",
    "        return None\n",
    "    \n",
    "    idx = idx[0]  # Take the first index if there are multiple matches\n",
    "    \n",
    "    # Select features for cosine similarity calculation\n",
    "    features = df.drop(['anime_id', 'name', 'genre', 'episodes', 'type', 'rating', 'members'], axis=1)\n",
    "    \n",
    "    # Calculate cosine similarity\n",
    "    similarity_scores = cosine_similarity(features.values, features.values)\n",
    "    \n",
    "    # Get similarity scores for the target anime\n",
    "    sim_scores = list(enumerate(similarity_scores[idx]))\n",
    "    \n",
    "    # Sort the anime based on similarity scores\n",
    "    sim_scores = sorted(sim_scores, key=lambda x: x[1], reverse=True)\n",
    "    \n",
    "    # Filter anime below the threshold and excluding itself\n",
    "    sim_scores = [(i, score) for i, score in sim_scores if score > threshold and i != idx]\n",
    "    \n",
    "    # Get indices of top similar anime\n",
    "    if len(sim_scores) < top_n:\n",
    "        top_n = len(sim_scores)\n",
    "    similar_anime_indices = [i for i, score in sim_scores[:top_n]]\n",
    "    \n",
    "    # Return recommended anime names\n",
    "    recommended_anime = df.iloc[similar_anime_indices]['name'].tolist()\n",
    "    \n",
    "    return recommended_anime\n",
    "\n",
    "# Example usage:\n",
    "anime_title = 'Kimi no Na wa.'\n",
    "recommendations = recommend_anime(anime_title, df)\n",
    "print(f\"Top 10 anime similar to '{anime_title}':\")\n",
    "print(recommendations)\n"
   ]
  },
  {
   "cell_type": "code",
   "execution_count": 26,
   "id": "e24c20e5-f10e-419c-933d-3cf1fa9edd41",
   "metadata": {},
   "outputs": [
    {
     "name": "stdout",
     "output_type": "stream",
     "text": [
      "Training set size: 9835\n",
      "Testing set size: 2459\n"
     ]
    }
   ],
   "source": [
    "from sklearn.model_selection import train_test_split\n",
    "\n",
    "# Assuming 'df' is your DataFrame after feature extraction and normalization\n",
    "\n",
    "# Split the dataset into 80% training and 20% testing\n",
    "train_df, test_df = train_test_split(df, test_size=0.2, random_state=42)\n",
    "\n",
    "print(f\"Training set size: {len(train_df)}\")\n",
    "print(f\"Testing set size: {len(test_df)}\")\n"
   ]
  },
  {
   "cell_type": "code",
   "execution_count": 31,
   "id": "283b23cc-10db-4b71-bb8d-e9a8986d02ad",
   "metadata": {},
   "outputs": [
    {
     "name": "stdout",
     "output_type": "stream",
     "text": [
      "Precision: 0.33\n",
      "Recall: 0.25\n",
      "F1-score: 0.29\n"
     ]
    }
   ],
   "source": [
    "# Example with adjusted actual and recommended lists\n",
    "actual = ['Kimi no Na wa.', 'Clannad: After Story', 'Toradora!', 'Wind: A Breath of Heart OVA']\n",
    "recommended = ['Wind: A Breath of Heart OVA', 'Clannad: After Story - Mou Hitotsu no Sekai, Kyou-hen', 'Kokoro ga Sakebitagatterunda.']\n",
    "\n",
    "precision_value = precision(actual, recommended)\n",
    "recall_value = recall(actual, recommended)\n",
    "f1_score_value = f1_score(precision_value, recall_value)\n",
    "\n",
    "print(f\"Precision: {precision_value:.2f}\")\n",
    "print(f\"Recall: {recall_value:.2f}\")\n",
    "print(f\"F1-score: {f1_score_value:.2f}\")\n"
   ]
  },
  {
   "cell_type": "code",
   "execution_count": 45,
   "id": "9fde616b-d987-40c3-bf6d-9c013ae3cc46",
   "metadata": {},
   "outputs": [
    {
     "data": {
      "image/png": "[encoded data removed]",
      "text/plain": [
       "<Figure size 1000x800 with 1 Axes>"
      ]
     },
     "metadata": {},
     "output_type": "display_data"
    }
   ],
   "source": [
    "import matplotlib.pyplot as plt\n",
    "from collections import Counter\n",
    "\n",
    "# Example data\n",
    "top_genres = Counter(df['genre'].str.split(', ').explode()).most_common(10)\n",
    "\n",
    "genres = [genre[0] for genre in top_genres]\n",
    "counts = [genre[1] for genre in top_genres]\n",
    "\n",
    "# Plotting genres\n",
    "plt.figure(figsize=(10, 8))\n",
    "plt.pie(counts, labels=genres, autopct='%1.1f%%', startangle=140)\n",
    "plt.title('Top 10 Anime Genres')\n",
    "plt.axis('equal')  # Equal aspect ratio ensures that pie is drawn as a circle.\n",
    "\n",
    "plt.show()\n"
   ]
  },
  {
   "cell_type": "code",
   "execution_count": 53,
   "id": "da388013-e4ab-4286-9799-e89fe47093f2",
   "metadata": {},
   "outputs": [
    {
     "data": {
      "image/png": "[encoded data removed]",
      "text/plain": [
       "<Figure size 1000x600 with 1 Axes>"
      ]
     },
     "metadata": {},
     "output_type": "display_data"
    }
   ],
   "source": [
    "import matplotlib.pyplot as plt\n",
    "\n",
    "# Example data\n",
    "ratings = df['rating']\n",
    "\n",
    "# Plotting ratings distribution\n",
    "plt.figure(figsize=(10, 6))\n",
    "plt.hist(ratings, bins=20, color='orange', edgecolor='black', alpha=0.9)\n",
    "plt.title('Distribution of Anime Ratings')\n",
    "plt.xlabel('Rating')\n",
    "plt.ylabel('Count')\n",
    "plt.grid(axis='y')\n",
    "\n",
    "plt.show()\n"
   ]
  },
  {
   "cell_type": "code",
   "execution_count": 54,
   "id": "be913513-7b11-46b0-8ecc-d2d4e900c539",
   "metadata": {},
   "outputs": [
    {
     "data": {
      "image/png": "[encoded data removed]",
      "text/plain": [
       "<Figure size 800x600 with 1 Axes>"
      ]
     },
     "metadata": {},
     "output_type": "display_data"
    }
   ],
   "source": [
    "import matplotlib.pyplot as plt\n",
    "\n",
    "# Example data\n",
    "metrics = ['Precision', 'Recall', 'F1-score']\n",
    "scores = [0.33, 0.25, 0.29]  # Replace with your actual scores\n",
    "\n",
    "# Plotting metrics\n",
    "plt.figure(figsize=(8, 6))\n",
    "\n",
    "plt.bar(metrics, scores, color=['blue', 'green', 'orange'])\n",
    "plt.title('Performance Metrics of Recommendation System')\n",
    "plt.ylim(0, 1)  # Adjust ylim based on your score range\n",
    "plt.ylabel('Score')\n",
    "plt.grid(axis='y')\n",
    "\n",
    "# Adding text labels\n",
    "for i, score in enumerate(scores):\n",
    "    plt.text(i, score + 0.01, f'{score:.2f}', ha='center', va='bottom', fontsize=12)\n",
    "\n",
    "plt.show()\n"
   ]
  },
  {
   "cell_type": "code",
   "execution_count": null,
   "id": "6f221a67-20c8-4f87-b489-0e79c5db5f01",
   "metadata": {},
   "outputs": [],
   "source": []
  }
 ],
 "metadata": {
  "kernelspec": {
   "display_name": "Python 3 (ipykernel)",
   "language": "python",
   "name": "python3"
  },
  "language_info": {
   "codemirror_mode": {
    "name": "ipython",
    "version": 3
   },
   "file_extension": ".py",
   "mimetype": "text/x-python",
   "name": "python",
   "nbconvert_exporter": "python",
   "pygments_lexer": "ipython3",
   "version": "3.11.7"
  }
 },
 "nbformat": 4,
 "nbformat_minor": 5
}
